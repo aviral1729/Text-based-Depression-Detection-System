{
 "cells": [
  {
   "cell_type": "code",
   "execution_count": 3,
   "metadata": {},
   "outputs": [
    {
     "name": "stderr",
     "output_type": "stream",
     "text": [
      "c:\\Users\\ankit\\anaconda3\\envs\\env\\lib\\site-packages\\tqdm\\auto.py:21: TqdmWarning: IProgress not found. Please update jupyter and ipywidgets. See https://ipywidgets.readthedocs.io/en/stable/user_install.html\n",
      "  from .autonotebook import tqdm as notebook_tqdm\n"
     ]
    }
   ],
   "source": [
    "import numpy as np\n",
    "import pandas as pd\n",
    "from sklearn.feature_extraction.text import TfidfVectorizer\n",
    "from sklearn.model_selection import train_test_split\n",
    "from sklearn.linear_model import LogisticRegression\n",
    "from sklearn.metrics import accuracy_score, classification_report\n",
    "from transformers import RobertaTokenizer, RobertaForSequenceClassification, AdamW\n",
    "import torch"
   ]
  },
  {
   "cell_type": "code",
   "execution_count": 1,
   "metadata": {},
   "outputs": [],
   "source": [
    "import pandas as pd\n",
    "import os\n",
    "\n",
    "X = []  # Initialize an empty list to store concatenated values\n",
    "y = []  # Initialize an empty list to store labels\n",
    "\n",
    "# Iterate through transcript IDs from 300 to 493\n",
    "for transcript_id in range(300, 494):\n",
    "    filename = f'./transcript/{transcript_id}_TRANSCRIPT.csv'\n",
    "    label_filename = \"./CSV/final_data.csv\"  # File containing labels\n",
    "    \n",
    "    # Check if the file exists before attempting to read it\n",
    "    if os.path.exists(filename) and os.path.exists(label_filename):\n",
    "        # Read the CSV file\n",
    "        data = pd.read_csv(filename, sep='\\t')\n",
    "        \n",
    "        # Filter rows where 'speaker' is \"Participant\" and select 'value' column\n",
    "        participant_values = data[data['speaker'] == \"Participant\"][\"value\"]\n",
    "        \n",
    "        # Convert NaN values to empty strings\n",
    "        participant_values = participant_values.fillna('')\n",
    "        \n",
    "        # Join participant values without a separator\n",
    "        joined_values = ' '.join(participant_values.astype(str).tolist())\n",
    "        \n",
    "        # Append joined values to list X\n",
    "        X.append(joined_values)\n",
    "        \n",
    "        # Read the label CSV file\n",
    "        label_data = pd.read_csv(label_filename)\n",
    "        \n",
    "        # Find the corresponding row for the transcript ID\n",
    "        label_row = label_data[label_data['Participant_ID'] == transcript_id]\n",
    "        \n",
    "        # Extract the label from the row\n",
    "        if not label_row.empty:\n",
    "            label = label_row.iloc[0]['PHQ8_Binary']\n",
    "            y.append(label)\n",
    "       \n",
    "   \n",
    "\n",
    "# Print the concatenated values and labels\n",
    "\n"
   ]
  },
  {
   "cell_type": "code",
   "execution_count": 3,
   "metadata": {},
   "outputs": [
    {
     "name": "stdout",
     "output_type": "stream",
     "text": [
      "Number of rows in X: 170\n"
     ]
    }
   ],
   "source": [
    "# Number of rows in X\n",
    "num_rows_X = len(X)\n",
    "print(\"Number of rows in X:\", num_rows_X)\n"
   ]
  },
  {
   "cell_type": "code",
   "execution_count": 4,
   "metadata": {},
   "outputs": [],
   "source": [
    "X_train, X_test, y_train, y_test = train_test_split(X, y, test_size=0.2, random_state=42)"
   ]
  },
  {
   "cell_type": "code",
   "execution_count": 5,
   "metadata": {},
   "outputs": [
    {
     "name": "stderr",
     "output_type": "stream",
     "text": [
      "Some weights of RobertaForSequenceClassification were not initialized from the model checkpoint at roberta-base and are newly initialized: ['classifier.dense.bias', 'classifier.dense.weight', 'classifier.out_proj.bias', 'classifier.out_proj.weight']\n",
      "You should probably TRAIN this model on a down-stream task to be able to use it for predictions and inference.\n"
     ]
    }
   ],
   "source": [
    "# Fine-tune RoBERTa\n",
    "tokenizer = RobertaTokenizer.from_pretrained('roberta-base')\n",
    "model = RobertaForSequenceClassification.from_pretrained('roberta-base', num_labels=2)"
   ]
  },
  {
   "cell_type": "code",
   "execution_count": 7,
   "metadata": {},
   "outputs": [
    {
     "data": {
      "text/plain": [
       "RobertaForSequenceClassification(\n",
       "  (roberta): RobertaModel(\n",
       "    (embeddings): RobertaEmbeddings(\n",
       "      (word_embeddings): Embedding(50265, 768, padding_idx=1)\n",
       "      (position_embeddings): Embedding(514, 768, padding_idx=1)\n",
       "      (token_type_embeddings): Embedding(1, 768)\n",
       "      (LayerNorm): LayerNorm((768,), eps=1e-05, elementwise_affine=True)\n",
       "      (dropout): Dropout(p=0.1, inplace=False)\n",
       "    )\n",
       "    (encoder): RobertaEncoder(\n",
       "      (layer): ModuleList(\n",
       "        (0-11): 12 x RobertaLayer(\n",
       "          (attention): RobertaAttention(\n",
       "            (self): RobertaSelfAttention(\n",
       "              (query): Linear(in_features=768, out_features=768, bias=True)\n",
       "              (key): Linear(in_features=768, out_features=768, bias=True)\n",
       "              (value): Linear(in_features=768, out_features=768, bias=True)\n",
       "              (dropout): Dropout(p=0.1, inplace=False)\n",
       "            )\n",
       "            (output): RobertaSelfOutput(\n",
       "              (dense): Linear(in_features=768, out_features=768, bias=True)\n",
       "              (LayerNorm): LayerNorm((768,), eps=1e-05, elementwise_affine=True)\n",
       "              (dropout): Dropout(p=0.1, inplace=False)\n",
       "            )\n",
       "          )\n",
       "          (intermediate): RobertaIntermediate(\n",
       "            (dense): Linear(in_features=768, out_features=3072, bias=True)\n",
       "            (intermediate_act_fn): GELUActivation()\n",
       "          )\n",
       "          (output): RobertaOutput(\n",
       "            (dense): Linear(in_features=3072, out_features=768, bias=True)\n",
       "            (LayerNorm): LayerNorm((768,), eps=1e-05, elementwise_affine=True)\n",
       "            (dropout): Dropout(p=0.1, inplace=False)\n",
       "          )\n",
       "        )\n",
       "      )\n",
       "    )\n",
       "  )\n",
       "  (classifier): RobertaClassificationHead(\n",
       "    (dense): Linear(in_features=768, out_features=768, bias=True)\n",
       "    (dropout): Dropout(p=0.1, inplace=False)\n",
       "    (out_proj): Linear(in_features=768, out_features=2, bias=True)\n",
       "  )\n",
       ")"
      ]
     },
     "execution_count": 7,
     "metadata": {},
     "output_type": "execute_result"
    }
   ],
   "source": [
    "model"
   ]
  },
  {
   "cell_type": "code",
   "execution_count": 6,
   "metadata": {},
   "outputs": [],
   "source": [
    "model = model.to('cuda')"
   ]
  },
  {
   "cell_type": "code",
   "execution_count": 7,
   "metadata": {},
   "outputs": [],
   "source": [
    "train_encodings = tokenizer(X_train, truncation=True, padding=True)\n",
    "test_encodings = tokenizer(X_test, truncation=True, padding=True)"
   ]
  },
  {
   "cell_type": "code",
   "execution_count": 12,
   "metadata": {},
   "outputs": [],
   "source": [
    "from transformers import TrainingArguments\n",
    "from transformers import Trainer"
   ]
  },
  {
   "cell_type": "code",
   "execution_count": 11,
   "metadata": {},
   "outputs": [],
   "source": [
    "import numpy as np\n",
    "from sklearn.metrics import accuracy_score, precision_score, recall_score, f1_score, confusion_matrix\n",
    "import seaborn as sns\n",
    "import matplotlib.pyplot as plt\n",
    "\n",
    "# Function to compute evaluation metrics\n",
    "def compute_metrics(pred):\n",
    "    labels = pred.label_ids\n",
    "    preds = pred.predictions.argmax(-1)\n",
    "    precision = precision_score(labels, preds, average='weighted')\n",
    "    recall = recall_score(labels, preds, average='weighted')\n",
    "    f1 = f1_score(labels, preds, average='weighted')\n",
    "    accuracy = accuracy_score(labels, preds)\n",
    "\n",
    "    # # Confusion matrix\n",
    "    # cm = confusion_matrix(labels, preds)\n",
    "    # plt.figure(figsize=(8, 6))\n",
    "    # sns.heatmap(cm, annot=True, fmt='g', cmap='Blues', cbar=False)\n",
    "    # plt.xlabel('Predicted labels')\n",
    "    # plt.ylabel('True labels')\n",
    "    # plt.title('Confusion Matrix')\n",
    "    # plt.show()\n",
    "\n",
    "    return {\n",
    "        'accuracy': accuracy,\n",
    "        'precision': precision,\n",
    "        'recall': recall,\n",
    "        'f1': f1\n",
    "    }"
   ]
  },
  {
   "cell_type": "code",
   "execution_count": 12,
   "metadata": {},
   "outputs": [
    {
     "name": "stderr",
     "output_type": "stream",
     "text": [
      "c:\\Users\\ankit\\anaconda3\\envs\\env\\lib\\site-packages\\accelerate\\accelerator.py:436: FutureWarning: Passing the following arguments to `Accelerator` is deprecated and will be removed in version 1.0 of Accelerate: dict_keys(['dispatch_batches', 'split_batches', 'even_batches', 'use_seedable_sampler']). Please pass an `accelerate.DataLoaderConfiguration` instead: \n",
      "dataloader_config = DataLoaderConfiguration(dispatch_batches=None, split_batches=False, even_batches=True, use_seedable_sampler=True)\n",
      "  warnings.warn(\n",
      "  2%|▏         | 17/850 [01:18<1:07:49,  4.89s/it]c:\\Users\\ankit\\anaconda3\\envs\\env\\lib\\site-packages\\sklearn\\metrics\\_classification.py:1469: UndefinedMetricWarning: Precision is ill-defined and being set to 0.0 in labels with no predicted samples. Use `zero_division` parameter to control this behavior.\n",
      "  _warn_prf(average, modifier, msg_start, len(result))\n",
      "                                                  \n",
      "  2%|▏         | 17/850 [01:26<1:07:49,  4.89s/it]"
     ]
    },
    {
     "name": "stdout",
     "output_type": "stream",
     "text": [
      "{'eval_loss': 0.6031811833381653, 'eval_accuracy': 0.7352941176470589, 'eval_precision': 0.5406574394463668, 'eval_recall': 0.7352941176470589, 'eval_f1': 0.6231306081754736, 'eval_runtime': 7.6378, 'eval_samples_per_second': 4.452, 'eval_steps_per_second': 0.655, 'epoch': 1.0}\n"
     ]
    },
    {
     "name": "stderr",
     "output_type": "stream",
     "text": [
      "  4%|▍         | 34/850 [02:51<1:07:18,  4.95s/it]c:\\Users\\ankit\\anaconda3\\envs\\env\\lib\\site-packages\\sklearn\\metrics\\_classification.py:1469: UndefinedMetricWarning: Precision is ill-defined and being set to 0.0 in labels with no predicted samples. Use `zero_division` parameter to control this behavior.\n",
      "  _warn_prf(average, modifier, msg_start, len(result))\n",
      "                                                  \n",
      "  4%|▍         | 34/850 [02:59<1:07:18,  4.95s/it]"
     ]
    },
    {
     "name": "stdout",
     "output_type": "stream",
     "text": [
      "{'eval_loss': 0.5774057507514954, 'eval_accuracy': 0.7352941176470589, 'eval_precision': 0.5406574394463668, 'eval_recall': 0.7352941176470589, 'eval_f1': 0.6231306081754736, 'eval_runtime': 8.0742, 'eval_samples_per_second': 4.211, 'eval_steps_per_second': 0.619, 'epoch': 2.0}\n"
     ]
    },
    {
     "name": "stderr",
     "output_type": "stream",
     "text": [
      "  6%|▌         | 51/850 [04:27<1:10:59,  5.33s/it]c:\\Users\\ankit\\anaconda3\\envs\\env\\lib\\site-packages\\sklearn\\metrics\\_classification.py:1469: UndefinedMetricWarning: Precision is ill-defined and being set to 0.0 in labels with no predicted samples. Use `zero_division` parameter to control this behavior.\n",
      "  _warn_prf(average, modifier, msg_start, len(result))\n",
      "                                                  \n",
      "  6%|▌         | 51/850 [04:35<1:10:59,  5.33s/it]"
     ]
    },
    {
     "name": "stdout",
     "output_type": "stream",
     "text": [
      "{'eval_loss': 0.580477774143219, 'eval_accuracy': 0.7352941176470589, 'eval_precision': 0.5406574394463668, 'eval_recall': 0.7352941176470589, 'eval_f1': 0.6231306081754736, 'eval_runtime': 7.6693, 'eval_samples_per_second': 4.433, 'eval_steps_per_second': 0.652, 'epoch': 3.0}\n"
     ]
    },
    {
     "name": "stderr",
     "output_type": "stream",
     "text": [
      "  8%|▊         | 68/850 [06:04<1:08:38,  5.27s/it]c:\\Users\\ankit\\anaconda3\\envs\\env\\lib\\site-packages\\sklearn\\metrics\\_classification.py:1469: UndefinedMetricWarning: Precision is ill-defined and being set to 0.0 in labels with no predicted samples. Use `zero_division` parameter to control this behavior.\n",
      "  _warn_prf(average, modifier, msg_start, len(result))\n",
      "                                                  \n",
      "  8%|▊         | 68/850 [06:12<1:08:38,  5.27s/it]"
     ]
    },
    {
     "name": "stdout",
     "output_type": "stream",
     "text": [
      "{'eval_loss': 0.5788016319274902, 'eval_accuracy': 0.7352941176470589, 'eval_precision': 0.5406574394463668, 'eval_recall': 0.7352941176470589, 'eval_f1': 0.6231306081754736, 'eval_runtime': 8.1374, 'eval_samples_per_second': 4.178, 'eval_steps_per_second': 0.614, 'epoch': 4.0}\n"
     ]
    },
    {
     "name": "stderr",
     "output_type": "stream",
     "text": [
      " 10%|█         | 85/850 [07:43<1:09:19,  5.44s/it]c:\\Users\\ankit\\anaconda3\\envs\\env\\lib\\site-packages\\sklearn\\metrics\\_classification.py:1469: UndefinedMetricWarning: Precision is ill-defined and being set to 0.0 in labels with no predicted samples. Use `zero_division` parameter to control this behavior.\n",
      "  _warn_prf(average, modifier, msg_start, len(result))\n",
      "                                                  \n",
      " 10%|█         | 85/850 [07:51<1:09:19,  5.44s/it]"
     ]
    },
    {
     "name": "stdout",
     "output_type": "stream",
     "text": [
      "{'eval_loss': 0.5498425364494324, 'eval_accuracy': 0.7352941176470589, 'eval_precision': 0.5406574394463668, 'eval_recall': 0.7352941176470589, 'eval_f1': 0.6231306081754736, 'eval_runtime': 8.2724, 'eval_samples_per_second': 4.11, 'eval_steps_per_second': 0.604, 'epoch': 5.0}\n"
     ]
    },
    {
     "name": "stderr",
     "output_type": "stream",
     "text": [
      " 12%|█▏        | 100/850 [09:12<1:06:43,  5.34s/it]"
     ]
    },
    {
     "name": "stdout",
     "output_type": "stream",
     "text": [
      "{'loss': 0.7959, 'grad_norm': 5.996889591217041, 'learning_rate': 4.411764705882353e-05, 'epoch': 5.88}\n"
     ]
    },
    {
     "name": "stderr",
     "output_type": "stream",
     "text": [
      "                                                   \n",
      " 12%|█▏        | 102/850 [09:30<1:06:32,  5.34s/it]"
     ]
    },
    {
     "name": "stdout",
     "output_type": "stream",
     "text": [
      "{'eval_loss': 0.5419513583183289, 'eval_accuracy': 0.7058823529411765, 'eval_precision': 0.6853408029878619, 'eval_recall': 0.7058823529411765, 'eval_f1': 0.693156108597285, 'eval_runtime': 8.194, 'eval_samples_per_second': 4.149, 'eval_steps_per_second': 0.61, 'epoch': 6.0}\n"
     ]
    },
    {
     "name": "stderr",
     "output_type": "stream",
     "text": [
      "                                                   \n",
      " 14%|█▍        | 119/850 [11:07<1:02:28,  5.13s/it]"
     ]
    },
    {
     "name": "stdout",
     "output_type": "stream",
     "text": [
      "{'eval_loss': 0.7087644934654236, 'eval_accuracy': 0.6764705882352942, 'eval_precision': 0.7118983957219251, 'eval_recall': 0.6764705882352942, 'eval_f1': 0.6892544251743251, 'eval_runtime': 8.0009, 'eval_samples_per_second': 4.25, 'eval_steps_per_second': 0.625, 'epoch': 7.0}\n"
     ]
    },
    {
     "name": "stderr",
     "output_type": "stream",
     "text": [
      "                                                   \n",
      " 16%|█▌        | 136/850 [12:44<1:03:07,  5.31s/it]"
     ]
    },
    {
     "name": "stdout",
     "output_type": "stream",
     "text": [
      "{'eval_loss': 0.6710785031318665, 'eval_accuracy': 0.35294117647058826, 'eval_precision': 0.6612576064908722, 'eval_recall': 0.35294117647058826, 'eval_f1': 0.3075335397316822, 'eval_runtime': 8.1038, 'eval_samples_per_second': 4.196, 'eval_steps_per_second': 0.617, 'epoch': 8.0}\n"
     ]
    },
    {
     "name": "stderr",
     "output_type": "stream",
     "text": [
      " 18%|█▊        | 153/850 [14:13<1:01:29,  5.29s/it]c:\\Users\\ankit\\anaconda3\\envs\\env\\lib\\site-packages\\sklearn\\metrics\\_classification.py:1469: UndefinedMetricWarning: Precision is ill-defined and being set to 0.0 in labels with no predicted samples. Use `zero_division` parameter to control this behavior.\n",
      "  _warn_prf(average, modifier, msg_start, len(result))\n",
      "                                                   \n",
      " 18%|█▊        | 153/850 [14:21<1:01:29,  5.29s/it]"
     ]
    },
    {
     "name": "stdout",
     "output_type": "stream",
     "text": [
      "{'eval_loss': 0.656146764755249, 'eval_accuracy': 0.7352941176470589, 'eval_precision': 0.5406574394463668, 'eval_recall': 0.7352941176470589, 'eval_f1': 0.6231306081754736, 'eval_runtime': 8.0969, 'eval_samples_per_second': 4.199, 'eval_steps_per_second': 0.618, 'epoch': 9.0}\n"
     ]
    },
    {
     "name": "stderr",
     "output_type": "stream",
     "text": [
      " 20%|██        | 170/850 [15:51<1:00:15,  5.32s/it]c:\\Users\\ankit\\anaconda3\\envs\\env\\lib\\site-packages\\sklearn\\metrics\\_classification.py:1469: UndefinedMetricWarning: Precision is ill-defined and being set to 0.0 in labels with no predicted samples. Use `zero_division` parameter to control this behavior.\n",
      "  _warn_prf(average, modifier, msg_start, len(result))\n",
      "                                                   \n",
      " 20%|██        | 170/850 [15:59<1:00:15,  5.32s/it]"
     ]
    },
    {
     "name": "stdout",
     "output_type": "stream",
     "text": [
      "{'eval_loss': 0.579375147819519, 'eval_accuracy': 0.7352941176470589, 'eval_precision': 0.5406574394463668, 'eval_recall': 0.7352941176470589, 'eval_f1': 0.6231306081754736, 'eval_runtime': 7.9519, 'eval_samples_per_second': 4.276, 'eval_steps_per_second': 0.629, 'epoch': 10.0}\n"
     ]
    },
    {
     "name": "stderr",
     "output_type": "stream",
     "text": [
      " 22%|██▏       | 187/850 [17:28<58:16,  5.27s/it]  c:\\Users\\ankit\\anaconda3\\envs\\env\\lib\\site-packages\\sklearn\\metrics\\_classification.py:1469: UndefinedMetricWarning: Precision is ill-defined and being set to 0.0 in labels with no predicted samples. Use `zero_division` parameter to control this behavior.\n",
      "  _warn_prf(average, modifier, msg_start, len(result))\n",
      "                                                 \n",
      " 22%|██▏       | 187/850 [17:36<58:16,  5.27s/it]"
     ]
    },
    {
     "name": "stdout",
     "output_type": "stream",
     "text": [
      "{'eval_loss': 0.5785248279571533, 'eval_accuracy': 0.7352941176470589, 'eval_precision': 0.5406574394463668, 'eval_recall': 0.7352941176470589, 'eval_f1': 0.6231306081754736, 'eval_runtime': 8.1442, 'eval_samples_per_second': 4.175, 'eval_steps_per_second': 0.614, 'epoch': 11.0}\n"
     ]
    },
    {
     "name": "stderr",
     "output_type": "stream",
     "text": [
      " 24%|██▎       | 200/850 [18:45<58:40,  5.42s/it]  "
     ]
    },
    {
     "name": "stdout",
     "output_type": "stream",
     "text": [
      "{'loss': 0.6071, 'grad_norm': 1.6169605255126953, 'learning_rate': 3.8235294117647055e-05, 'epoch': 11.76}\n"
     ]
    },
    {
     "name": "stderr",
     "output_type": "stream",
     "text": [
      " 24%|██▍       | 204/850 [19:05<56:03,  5.21s/it]  c:\\Users\\ankit\\anaconda3\\envs\\env\\lib\\site-packages\\sklearn\\metrics\\_classification.py:1469: UndefinedMetricWarning: Precision is ill-defined and being set to 0.0 in labels with no predicted samples. Use `zero_division` parameter to control this behavior.\n",
      "  _warn_prf(average, modifier, msg_start, len(result))\n",
      "                                                 \n",
      " 24%|██▍       | 204/850 [19:13<56:03,  5.21s/it]"
     ]
    },
    {
     "name": "stdout",
     "output_type": "stream",
     "text": [
      "{'eval_loss': 0.5786821246147156, 'eval_accuracy': 0.7352941176470589, 'eval_precision': 0.5406574394463668, 'eval_recall': 0.7352941176470589, 'eval_f1': 0.6231306081754736, 'eval_runtime': 8.0151, 'eval_samples_per_second': 4.242, 'eval_steps_per_second': 0.624, 'epoch': 12.0}\n"
     ]
    },
    {
     "name": "stderr",
     "output_type": "stream",
     "text": [
      " 26%|██▌       | 221/850 [20:43<55:57,  5.34s/it]  c:\\Users\\ankit\\anaconda3\\envs\\env\\lib\\site-packages\\sklearn\\metrics\\_classification.py:1469: UndefinedMetricWarning: Precision is ill-defined and being set to 0.0 in labels with no predicted samples. Use `zero_division` parameter to control this behavior.\n",
      "  _warn_prf(average, modifier, msg_start, len(result))\n",
      "                                                 \n",
      " 26%|██▌       | 221/850 [20:51<55:57,  5.34s/it]"
     ]
    },
    {
     "name": "stdout",
     "output_type": "stream",
     "text": [
      "{'eval_loss': 0.5778275728225708, 'eval_accuracy': 0.7352941176470589, 'eval_precision': 0.5406574394463668, 'eval_recall': 0.7352941176470589, 'eval_f1': 0.6231306081754736, 'eval_runtime': 7.9755, 'eval_samples_per_second': 4.263, 'eval_steps_per_second': 0.627, 'epoch': 13.0}\n"
     ]
    },
    {
     "name": "stderr",
     "output_type": "stream",
     "text": [
      " 28%|██▊       | 238/850 [22:20<53:19,  5.23s/it]  c:\\Users\\ankit\\anaconda3\\envs\\env\\lib\\site-packages\\sklearn\\metrics\\_classification.py:1469: UndefinedMetricWarning: Precision is ill-defined and being set to 0.0 in labels with no predicted samples. Use `zero_division` parameter to control this behavior.\n",
      "  _warn_prf(average, modifier, msg_start, len(result))\n",
      "                                                 \n",
      " 28%|██▊       | 238/850 [22:28<53:19,  5.23s/it]"
     ]
    },
    {
     "name": "stdout",
     "output_type": "stream",
     "text": [
      "{'eval_loss': 0.5812520384788513, 'eval_accuracy': 0.7352941176470589, 'eval_precision': 0.5406574394463668, 'eval_recall': 0.7352941176470589, 'eval_f1': 0.6231306081754736, 'eval_runtime': 8.1095, 'eval_samples_per_second': 4.193, 'eval_steps_per_second': 0.617, 'epoch': 14.0}\n"
     ]
    },
    {
     "name": "stderr",
     "output_type": "stream",
     "text": [
      " 30%|███       | 255/850 [23:58<52:03,  5.25s/it]  c:\\Users\\ankit\\anaconda3\\envs\\env\\lib\\site-packages\\sklearn\\metrics\\_classification.py:1469: UndefinedMetricWarning: Precision is ill-defined and being set to 0.0 in labels with no predicted samples. Use `zero_division` parameter to control this behavior.\n",
      "  _warn_prf(average, modifier, msg_start, len(result))\n",
      "                                                 \n",
      " 30%|███       | 255/850 [24:06<52:03,  5.25s/it]"
     ]
    },
    {
     "name": "stdout",
     "output_type": "stream",
     "text": [
      "{'eval_loss': 0.5762227177619934, 'eval_accuracy': 0.7352941176470589, 'eval_precision': 0.5406574394463668, 'eval_recall': 0.7352941176470589, 'eval_f1': 0.6231306081754736, 'eval_runtime': 8.1842, 'eval_samples_per_second': 4.154, 'eval_steps_per_second': 0.611, 'epoch': 15.0}\n"
     ]
    },
    {
     "name": "stderr",
     "output_type": "stream",
     "text": [
      "                                                   \n",
      " 32%|███▏      | 272/850 [25:43<50:54,  5.28s/it]"
     ]
    },
    {
     "name": "stdout",
     "output_type": "stream",
     "text": [
      "{'eval_loss': 0.5861477851867676, 'eval_accuracy': 0.6764705882352942, 'eval_precision': 0.7118983957219251, 'eval_recall': 0.6764705882352942, 'eval_f1': 0.6892544251743251, 'eval_runtime': 8.2197, 'eval_samples_per_second': 4.136, 'eval_steps_per_second': 0.608, 'epoch': 16.0}\n"
     ]
    },
    {
     "name": "stderr",
     "output_type": "stream",
     "text": [
      "                                                   \n",
      " 34%|███▍      | 289/850 [27:21<48:58,  5.24s/it]"
     ]
    },
    {
     "name": "stdout",
     "output_type": "stream",
     "text": [
      "{'eval_loss': 0.6485224962234497, 'eval_accuracy': 0.7058823529411765, 'eval_precision': 0.6337760910815939, 'eval_recall': 0.7058823529411765, 'eval_f1': 0.6481092436974789, 'eval_runtime': 7.9577, 'eval_samples_per_second': 4.273, 'eval_steps_per_second': 0.628, 'epoch': 17.0}\n"
     ]
    },
    {
     "name": "stderr",
     "output_type": "stream",
     "text": [
      " 35%|███▌      | 300/850 [28:19<49:17,  5.38s/it]  "
     ]
    },
    {
     "name": "stdout",
     "output_type": "stream",
     "text": [
      "{'loss': 0.607, 'grad_norm': 5.132479667663574, 'learning_rate': 3.235294117647059e-05, 'epoch': 17.65}\n"
     ]
    },
    {
     "name": "stderr",
     "output_type": "stream",
     "text": [
      " 36%|███▌      | 306/850 [28:51<47:52,  5.28s/it]c:\\Users\\ankit\\anaconda3\\envs\\env\\lib\\site-packages\\sklearn\\metrics\\_classification.py:1469: UndefinedMetricWarning: Precision is ill-defined and being set to 0.0 in labels with no predicted samples. Use `zero_division` parameter to control this behavior.\n",
      "  _warn_prf(average, modifier, msg_start, len(result))\n",
      "                                                 \n",
      " 36%|███▌      | 306/850 [28:59<47:52,  5.28s/it]"
     ]
    },
    {
     "name": "stdout",
     "output_type": "stream",
     "text": [
      "{'eval_loss': 0.5714195370674133, 'eval_accuracy': 0.7352941176470589, 'eval_precision': 0.5406574394463668, 'eval_recall': 0.7352941176470589, 'eval_f1': 0.6231306081754736, 'eval_runtime': 8.1391, 'eval_samples_per_second': 4.177, 'eval_steps_per_second': 0.614, 'epoch': 18.0}\n"
     ]
    },
    {
     "name": "stderr",
     "output_type": "stream",
     "text": [
      "                                                   \n",
      " 38%|███▊      | 323/850 [30:36<47:10,  5.37s/it]"
     ]
    },
    {
     "name": "stdout",
     "output_type": "stream",
     "text": [
      "{'eval_loss': 0.546101450920105, 'eval_accuracy': 0.7352941176470589, 'eval_precision': 0.6960784313725491, 'eval_recall': 0.7352941176470589, 'eval_f1': 0.6964212258329905, 'eval_runtime': 7.2825, 'eval_samples_per_second': 4.669, 'eval_steps_per_second': 0.687, 'epoch': 19.0}\n"
     ]
    },
    {
     "name": "stderr",
     "output_type": "stream",
     "text": [
      "                                                   \n",
      " 40%|████      | 340/850 [32:14<44:30,  5.24s/it]"
     ]
    },
    {
     "name": "stdout",
     "output_type": "stream",
     "text": [
      "{'eval_loss': 0.5092693567276001, 'eval_accuracy': 0.7647058823529411, 'eval_precision': 0.7837712159962799, 'eval_recall': 0.7647058823529411, 'eval_f1': 0.7715686274509803, 'eval_runtime': 8.1715, 'eval_samples_per_second': 4.161, 'eval_steps_per_second': 0.612, 'epoch': 20.0}\n"
     ]
    },
    {
     "name": "stderr",
     "output_type": "stream",
     "text": [
      "                                                   \n",
      " 42%|████▏     | 357/850 [33:50<43:27,  5.29s/it]"
     ]
    },
    {
     "name": "stdout",
     "output_type": "stream",
     "text": [
      "{'eval_loss': 0.6166386604309082, 'eval_accuracy': 0.7058823529411765, 'eval_precision': 0.5347593582887701, 'eval_recall': 0.7058823529411765, 'eval_f1': 0.6085192697768763, 'eval_runtime': 7.9819, 'eval_samples_per_second': 4.26, 'eval_steps_per_second': 0.626, 'epoch': 21.0}\n"
     ]
    },
    {
     "name": "stderr",
     "output_type": "stream",
     "text": [
      "                                                   \n",
      " 44%|████▍     | 374/850 [35:26<41:19,  5.21s/it]"
     ]
    },
    {
     "name": "stdout",
     "output_type": "stream",
     "text": [
      "{'eval_loss': 0.6006547212600708, 'eval_accuracy': 0.7352941176470589, 'eval_precision': 0.767379679144385, 'eval_recall': 0.7352941176470589, 'eval_f1': 0.7457536205971751, 'eval_runtime': 7.942, 'eval_samples_per_second': 4.281, 'eval_steps_per_second': 0.63, 'epoch': 22.0}\n"
     ]
    },
    {
     "name": "stderr",
     "output_type": "stream",
     "text": [
      "                                                   \n",
      " 46%|████▌     | 391/850 [37:03<38:38,  5.05s/it]"
     ]
    },
    {
     "name": "stdout",
     "output_type": "stream",
     "text": [
      "{'eval_loss': 0.5676410794258118, 'eval_accuracy': 0.7352941176470589, 'eval_precision': 0.7262443438914028, 'eval_recall': 0.7352941176470589, 'eval_f1': 0.7301038062283736, 'eval_runtime': 7.8541, 'eval_samples_per_second': 4.329, 'eval_steps_per_second': 0.637, 'epoch': 23.0}\n"
     ]
    },
    {
     "name": "stderr",
     "output_type": "stream",
     "text": [
      " 47%|████▋     | 400/850 [37:49<39:23,  5.25s/it]"
     ]
    },
    {
     "name": "stdout",
     "output_type": "stream",
     "text": [
      "{'loss': 0.475, 'grad_norm': 10.450671195983887, 'learning_rate': 2.647058823529412e-05, 'epoch': 23.53}\n"
     ]
    },
    {
     "name": "stderr",
     "output_type": "stream",
     "text": [
      "                                                 \n",
      " 48%|████▊     | 408/850 [38:38<38:17,  5.20s/it]"
     ]
    },
    {
     "name": "stdout",
     "output_type": "stream",
     "text": [
      "{'eval_loss': 0.6206323504447937, 'eval_accuracy': 0.7058823529411765, 'eval_precision': 0.7814241486068111, 'eval_recall': 0.7058823529411765, 'eval_f1': 0.7225935828877005, 'eval_runtime': 7.973, 'eval_samples_per_second': 4.264, 'eval_steps_per_second': 0.627, 'epoch': 24.0}\n"
     ]
    },
    {
     "name": "stderr",
     "output_type": "stream",
     "text": [
      " 50%|█████     | 425/850 [40:07<37:48,  5.34s/it]c:\\Users\\ankit\\anaconda3\\envs\\env\\lib\\site-packages\\sklearn\\metrics\\_classification.py:1469: UndefinedMetricWarning: Precision is ill-defined and being set to 0.0 in labels with no predicted samples. Use `zero_division` parameter to control this behavior.\n",
      "  _warn_prf(average, modifier, msg_start, len(result))\n",
      "                                                 \n",
      " 50%|█████     | 425/850 [40:15<37:48,  5.34s/it]"
     ]
    },
    {
     "name": "stdout",
     "output_type": "stream",
     "text": [
      "{'eval_loss': 1.0705583095550537, 'eval_accuracy': 0.7352941176470589, 'eval_precision': 0.5406574394463668, 'eval_recall': 0.7352941176470589, 'eval_f1': 0.6231306081754736, 'eval_runtime': 7.7497, 'eval_samples_per_second': 4.387, 'eval_steps_per_second': 0.645, 'epoch': 25.0}\n"
     ]
    },
    {
     "name": "stderr",
     "output_type": "stream",
     "text": [
      "                                                 \n",
      " 52%|█████▏    | 442/850 [41:51<34:59,  5.15s/it]"
     ]
    },
    {
     "name": "stdout",
     "output_type": "stream",
     "text": [
      "{'eval_loss': 0.9952172636985779, 'eval_accuracy': 0.7058823529411765, 'eval_precision': 0.5347593582887701, 'eval_recall': 0.7058823529411765, 'eval_f1': 0.6085192697768763, 'eval_runtime': 7.9942, 'eval_samples_per_second': 4.253, 'eval_steps_per_second': 0.625, 'epoch': 26.0}\n"
     ]
    },
    {
     "name": "stderr",
     "output_type": "stream",
     "text": [
      "                                                 \n",
      " 54%|█████▍    | 459/850 [43:37<35:53,  5.51s/it]"
     ]
    },
    {
     "name": "stdout",
     "output_type": "stream",
     "text": [
      "{'eval_loss': 1.2288929224014282, 'eval_accuracy': 0.7058823529411765, 'eval_precision': 0.5347593582887701, 'eval_recall': 0.7058823529411765, 'eval_f1': 0.6085192697768763, 'eval_runtime': 7.8798, 'eval_samples_per_second': 4.315, 'eval_steps_per_second': 0.635, 'epoch': 27.0}\n"
     ]
    },
    {
     "name": "stderr",
     "output_type": "stream",
     "text": [
      "                                                 \n",
      " 56%|█████▌    | 476/850 [45:13<32:36,  5.23s/it]"
     ]
    },
    {
     "name": "stdout",
     "output_type": "stream",
     "text": [
      "{'eval_loss': 1.1928136348724365, 'eval_accuracy': 0.7352941176470589, 'eval_precision': 0.6960784313725491, 'eval_recall': 0.7352941176470589, 'eval_f1': 0.6964212258329905, 'eval_runtime': 7.9776, 'eval_samples_per_second': 4.262, 'eval_steps_per_second': 0.627, 'epoch': 28.0}\n"
     ]
    },
    {
     "name": "stderr",
     "output_type": "stream",
     "text": [
      "                                                 \n",
      " 58%|█████▊    | 493/850 [46:50<31:00,  5.21s/it]"
     ]
    },
    {
     "name": "stdout",
     "output_type": "stream",
     "text": [
      "{'eval_loss': 0.8523944616317749, 'eval_accuracy': 0.8235294117647058, 'eval_precision': 0.8154372860255215, 'eval_recall': 0.8235294117647058, 'eval_f1': 0.815893665158371, 'eval_runtime': 7.9998, 'eval_samples_per_second': 4.25, 'eval_steps_per_second': 0.625, 'epoch': 29.0}\n"
     ]
    },
    {
     "name": "stderr",
     "output_type": "stream",
     "text": [
      " 59%|█████▉    | 500/850 [47:27<32:05,  5.50s/it]"
     ]
    },
    {
     "name": "stdout",
     "output_type": "stream",
     "text": [
      "{'loss': 0.2751, 'grad_norm': 0.26262620091438293, 'learning_rate': 2.058823529411765e-05, 'epoch': 29.41}\n"
     ]
    },
    {
     "name": "stderr",
     "output_type": "stream",
     "text": [
      "                                                 \n",
      " 60%|██████    | 510/850 [48:31<31:44,  5.60s/it]"
     ]
    },
    {
     "name": "stdout",
     "output_type": "stream",
     "text": [
      "{'eval_loss': 0.9261951446533203, 'eval_accuracy': 0.7647058823529411, 'eval_precision': 0.74573055028463, 'eval_recall': 0.7647058823529411, 'eval_f1': 0.7184873949579832, 'eval_runtime': 7.1942, 'eval_samples_per_second': 4.726, 'eval_steps_per_second': 0.695, 'epoch': 30.0}\n"
     ]
    },
    {
     "name": "stderr",
     "output_type": "stream",
     "text": [
      "                                                 \n",
      " 62%|██████▏   | 527/850 [50:09<28:23,  5.27s/it]"
     ]
    },
    {
     "name": "stdout",
     "output_type": "stream",
     "text": [
      "{'eval_loss': 0.8253732323646545, 'eval_accuracy': 0.7941176470588235, 'eval_precision': 0.8391544117647058, 'eval_recall': 0.7941176470588235, 'eval_f1': 0.7412515245332583, 'eval_runtime': 7.8485, 'eval_samples_per_second': 4.332, 'eval_steps_per_second': 0.637, 'epoch': 31.0}\n"
     ]
    },
    {
     "name": "stderr",
     "output_type": "stream",
     "text": [
      "                                                 \n",
      " 64%|██████▍   | 544/850 [51:47<26:47,  5.25s/it]"
     ]
    },
    {
     "name": "stdout",
     "output_type": "stream",
     "text": [
      "{'eval_loss': 0.8580695986747742, 'eval_accuracy': 0.7647058823529411, 'eval_precision': 0.74573055028463, 'eval_recall': 0.7647058823529411, 'eval_f1': 0.7184873949579832, 'eval_runtime': 7.8892, 'eval_samples_per_second': 4.31, 'eval_steps_per_second': 0.634, 'epoch': 32.0}\n"
     ]
    },
    {
     "name": "stderr",
     "output_type": "stream",
     "text": [
      "                                                 \n",
      " 66%|██████▌   | 561/850 [53:23<25:45,  5.35s/it]"
     ]
    },
    {
     "name": "stdout",
     "output_type": "stream",
     "text": [
      "{'eval_loss': 0.7786317467689514, 'eval_accuracy': 0.7941176470588235, 'eval_precision': 0.8391544117647058, 'eval_recall': 0.7941176470588235, 'eval_f1': 0.7412515245332583, 'eval_runtime': 7.4071, 'eval_samples_per_second': 4.59, 'eval_steps_per_second': 0.675, 'epoch': 33.0}\n"
     ]
    },
    {
     "name": "stderr",
     "output_type": "stream",
     "text": [
      "                                                 \n",
      " 68%|██████▊   | 578/850 [54:59<23:28,  5.18s/it]"
     ]
    },
    {
     "name": "stdout",
     "output_type": "stream",
     "text": [
      "{'eval_loss': 0.918927788734436, 'eval_accuracy': 0.7941176470588235, 'eval_precision': 0.7867647058823529, 'eval_recall': 0.7941176470588235, 'eval_f1': 0.7638831756478816, 'eval_runtime': 7.8795, 'eval_samples_per_second': 4.315, 'eval_steps_per_second': 0.635, 'epoch': 34.0}\n"
     ]
    },
    {
     "name": "stderr",
     "output_type": "stream",
     "text": [
      "                                                 \n",
      " 70%|███████   | 595/850 [56:35<22:02,  5.19s/it]"
     ]
    },
    {
     "name": "stdout",
     "output_type": "stream",
     "text": [
      "{'eval_loss': 1.048978328704834, 'eval_accuracy': 0.7647058823529411, 'eval_precision': 0.7419878296146044, 'eval_recall': 0.7647058823529411, 'eval_f1': 0.7398070339246811, 'eval_runtime': 7.9505, 'eval_samples_per_second': 4.276, 'eval_steps_per_second': 0.629, 'epoch': 35.0}\n"
     ]
    },
    {
     "name": "stderr",
     "output_type": "stream",
     "text": [
      " 71%|███████   | 600/850 [57:01<23:50,  5.72s/it]"
     ]
    },
    {
     "name": "stdout",
     "output_type": "stream",
     "text": [
      "{'loss': 0.1963, 'grad_norm': 2.829937696456909, 'learning_rate': 1.4705882352941177e-05, 'epoch': 35.29}\n"
     ]
    },
    {
     "name": "stderr",
     "output_type": "stream",
     "text": [
      "                                                 \n",
      " 72%|███████▏  | 612/850 [58:11<20:27,  5.16s/it]"
     ]
    },
    {
     "name": "stdout",
     "output_type": "stream",
     "text": [
      "{'eval_loss': 1.0339770317077637, 'eval_accuracy': 0.7941176470588235, 'eval_precision': 0.7804621848739496, 'eval_recall': 0.7941176470588235, 'eval_f1': 0.7793562708102107, 'eval_runtime': 7.9294, 'eval_samples_per_second': 4.288, 'eval_steps_per_second': 0.631, 'epoch': 36.0}\n"
     ]
    },
    {
     "name": "stderr",
     "output_type": "stream",
     "text": [
      "                                                 \n",
      " 74%|███████▍  | 629/850 [59:47<19:14,  5.22s/it]"
     ]
    },
    {
     "name": "stdout",
     "output_type": "stream",
     "text": [
      "{'eval_loss': 1.1000410318374634, 'eval_accuracy': 0.7647058823529411, 'eval_precision': 0.7419878296146044, 'eval_recall': 0.7647058823529411, 'eval_f1': 0.7398070339246811, 'eval_runtime': 7.7878, 'eval_samples_per_second': 4.366, 'eval_steps_per_second': 0.642, 'epoch': 37.0}\n"
     ]
    },
    {
     "name": "stderr",
     "output_type": "stream",
     "text": [
      "                                                   \n",
      " 76%|███████▌  | 646/850 [1:01:23<17:43,  5.21s/it]"
     ]
    },
    {
     "name": "stdout",
     "output_type": "stream",
     "text": [
      "{'eval_loss': 0.9711341857910156, 'eval_accuracy': 0.7941176470588235, 'eval_precision': 0.7804621848739496, 'eval_recall': 0.7941176470588235, 'eval_f1': 0.7793562708102107, 'eval_runtime': 7.8921, 'eval_samples_per_second': 4.308, 'eval_steps_per_second': 0.634, 'epoch': 38.0}\n"
     ]
    },
    {
     "name": "stderr",
     "output_type": "stream",
     "text": [
      "                                                   \n",
      " 78%|███████▊  | 663/850 [1:02:59<16:12,  5.20s/it]"
     ]
    },
    {
     "name": "stdout",
     "output_type": "stream",
     "text": [
      "{'eval_loss': 1.0000207424163818, 'eval_accuracy': 0.7941176470588235, 'eval_precision': 0.7804621848739496, 'eval_recall': 0.7941176470588235, 'eval_f1': 0.7793562708102107, 'eval_runtime': 7.9714, 'eval_samples_per_second': 4.265, 'eval_steps_per_second': 0.627, 'epoch': 39.0}\n"
     ]
    },
    {
     "name": "stderr",
     "output_type": "stream",
     "text": [
      "                                                   \n",
      " 80%|████████  | 680/850 [1:04:35<14:32,  5.13s/it]"
     ]
    },
    {
     "name": "stdout",
     "output_type": "stream",
     "text": [
      "{'eval_loss': 0.8901753425598145, 'eval_accuracy': 0.7647058823529411, 'eval_precision': 0.74573055028463, 'eval_recall': 0.7647058823529411, 'eval_f1': 0.7184873949579832, 'eval_runtime': 7.9393, 'eval_samples_per_second': 4.283, 'eval_steps_per_second': 0.63, 'epoch': 40.0}\n"
     ]
    },
    {
     "name": "stderr",
     "output_type": "stream",
     "text": [
      "                                                   \n",
      " 82%|████████▏ | 697/850 [1:06:11<13:02,  5.12s/it]"
     ]
    },
    {
     "name": "stdout",
     "output_type": "stream",
     "text": [
      "{'eval_loss': 0.8622046709060669, 'eval_accuracy': 0.8235294117647058, 'eval_precision': 0.8154372860255215, 'eval_recall': 0.8235294117647058, 'eval_f1': 0.815893665158371, 'eval_runtime': 7.9128, 'eval_samples_per_second': 4.297, 'eval_steps_per_second': 0.632, 'epoch': 41.0}\n"
     ]
    },
    {
     "name": "stderr",
     "output_type": "stream",
     "text": [
      " 82%|████████▏ | 700/850 [1:06:27<15:32,  6.22s/it]"
     ]
    },
    {
     "name": "stdout",
     "output_type": "stream",
     "text": [
      "{'loss': 0.1921, 'grad_norm': 6.1852707862854, 'learning_rate': 8.823529411764707e-06, 'epoch': 41.18}\n"
     ]
    },
    {
     "name": "stderr",
     "output_type": "stream",
     "text": [
      "                                                   \n",
      " 84%|████████▍ | 714/850 [1:07:48<11:31,  5.09s/it]"
     ]
    },
    {
     "name": "stdout",
     "output_type": "stream",
     "text": [
      "{'eval_loss': 0.9025042057037354, 'eval_accuracy': 0.8235294117647058, 'eval_precision': 0.8154372860255215, 'eval_recall': 0.8235294117647058, 'eval_f1': 0.815893665158371, 'eval_runtime': 7.9312, 'eval_samples_per_second': 4.287, 'eval_steps_per_second': 0.63, 'epoch': 42.0}\n"
     ]
    },
    {
     "name": "stderr",
     "output_type": "stream",
     "text": [
      "                                                   \n",
      " 86%|████████▌ | 731/850 [1:09:24<10:11,  5.14s/it]"
     ]
    },
    {
     "name": "stdout",
     "output_type": "stream",
     "text": [
      "{'eval_loss': 0.6813297867774963, 'eval_accuracy': 0.8529411764705882, 'eval_precision': 0.8508403361344538, 'eval_recall': 0.8529411764705882, 'eval_f1': 0.8423973362930076, 'eval_runtime': 7.9147, 'eval_samples_per_second': 4.296, 'eval_steps_per_second': 0.632, 'epoch': 43.0}\n"
     ]
    },
    {
     "name": "stderr",
     "output_type": "stream",
     "text": [
      "                                                   \n",
      " 88%|████████▊ | 748/850 [1:11:00<09:03,  5.33s/it]"
     ]
    },
    {
     "name": "stdout",
     "output_type": "stream",
     "text": [
      "{'eval_loss': 0.9022487998008728, 'eval_accuracy': 0.8235294117647058, 'eval_precision': 0.8154372860255215, 'eval_recall': 0.8235294117647058, 'eval_f1': 0.815893665158371, 'eval_runtime': 7.1904, 'eval_samples_per_second': 4.729, 'eval_steps_per_second': 0.695, 'epoch': 44.0}\n"
     ]
    },
    {
     "name": "stderr",
     "output_type": "stream",
     "text": [
      "                                                   \n",
      " 90%|█████████ | 765/850 [1:12:36<07:24,  5.23s/it]"
     ]
    },
    {
     "name": "stdout",
     "output_type": "stream",
     "text": [
      "{'eval_loss': 0.8554081916809082, 'eval_accuracy': 0.7941176470588235, 'eval_precision': 0.7867647058823529, 'eval_recall': 0.7941176470588235, 'eval_f1': 0.7638831756478816, 'eval_runtime': 7.8908, 'eval_samples_per_second': 4.309, 'eval_steps_per_second': 0.634, 'epoch': 45.0}\n"
     ]
    },
    {
     "name": "stderr",
     "output_type": "stream",
     "text": [
      "                                                   \n",
      " 92%|█████████▏| 782/850 [1:14:11<05:41,  5.03s/it]"
     ]
    },
    {
     "name": "stdout",
     "output_type": "stream",
     "text": [
      "{'eval_loss': 0.868661105632782, 'eval_accuracy': 0.7941176470588235, 'eval_precision': 0.7867647058823529, 'eval_recall': 0.7941176470588235, 'eval_f1': 0.7638831756478816, 'eval_runtime': 7.7792, 'eval_samples_per_second': 4.371, 'eval_steps_per_second': 0.643, 'epoch': 46.0}\n"
     ]
    },
    {
     "name": "stderr",
     "output_type": "stream",
     "text": [
      "                                                   \n",
      " 94%|█████████▍| 799/850 [1:15:46<04:21,  5.13s/it]"
     ]
    },
    {
     "name": "stdout",
     "output_type": "stream",
     "text": [
      "{'eval_loss': 0.9419775605201721, 'eval_accuracy': 0.8235294117647058, 'eval_precision': 0.8154372860255215, 'eval_recall': 0.8235294117647058, 'eval_f1': 0.815893665158371, 'eval_runtime': 7.682, 'eval_samples_per_second': 4.426, 'eval_steps_per_second': 0.651, 'epoch': 47.0}\n"
     ]
    },
    {
     "name": "stderr",
     "output_type": "stream",
     "text": [
      " 94%|█████████▍| 800/850 [1:15:51<06:04,  7.30s/it]"
     ]
    },
    {
     "name": "stdout",
     "output_type": "stream",
     "text": [
      "{'loss': 0.1575, 'grad_norm': 0.18080858886241913, 'learning_rate': 2.9411764705882355e-06, 'epoch': 47.06}\n"
     ]
    },
    {
     "name": "stderr",
     "output_type": "stream",
     "text": [
      "                                                   \n",
      " 96%|█████████▌| 816/850 [1:18:38<07:19, 12.94s/it]"
     ]
    },
    {
     "name": "stdout",
     "output_type": "stream",
     "text": [
      "{'eval_loss': 0.9013295769691467, 'eval_accuracy': 0.8235294117647058, 'eval_precision': 0.8154372860255215, 'eval_recall': 0.8235294117647058, 'eval_f1': 0.815893665158371, 'eval_runtime': 13.9755, 'eval_samples_per_second': 2.433, 'eval_steps_per_second': 0.358, 'epoch': 48.0}\n"
     ]
    },
    {
     "name": "stderr",
     "output_type": "stream",
     "text": [
      "                                                   \n",
      " 98%|█████████▊| 833/850 [1:21:00<01:39,  5.86s/it]"
     ]
    },
    {
     "name": "stdout",
     "output_type": "stream",
     "text": [
      "{'eval_loss': 0.8791314363479614, 'eval_accuracy': 0.8235294117647058, 'eval_precision': 0.8235294117647058, 'eval_recall': 0.8235294117647058, 'eval_f1': 0.8235294117647058, 'eval_runtime': 9.3477, 'eval_samples_per_second': 3.637, 'eval_steps_per_second': 0.535, 'epoch': 49.0}\n"
     ]
    },
    {
     "name": "stderr",
     "output_type": "stream",
     "text": [
      "                                                   \n",
      "100%|██████████| 850/850 [1:23:18<00:00,  5.88s/it]"
     ]
    },
    {
     "name": "stdout",
     "output_type": "stream",
     "text": [
      "{'eval_loss': 0.8508814573287964, 'eval_accuracy': 0.8529411764705882, 'eval_precision': 0.8489819004524887, 'eval_recall': 0.8529411764705882, 'eval_f1': 0.8500576701268744, 'eval_runtime': 26.7633, 'eval_samples_per_second': 1.27, 'eval_steps_per_second': 0.187, 'epoch': 50.0}\n",
      "{'train_runtime': 4998.5775, 'train_samples_per_second': 1.36, 'train_steps_per_second': 0.17, 'train_loss': 0.3929042185054106, 'epoch': 50.0}\n"
     ]
    },
    {
     "name": "stderr",
     "output_type": "stream",
     "text": [
      "\n"
     ]
    }
   ],
   "source": [
    "import torch\n",
    "from transformers import Trainer, TrainingArguments\n",
    "\n",
    "class CustomDataset(torch.utils.data.Dataset):\n",
    "    def __init__(self, encodings, labels):\n",
    "        self.encodings = encodings\n",
    "        self.labels = labels\n",
    "\n",
    "    def __getitem__(self, idx):\n",
    "        item = {key: torch.tensor(val[idx]) for key, val in self.encodings.items()}\n",
    "        item['labels'] = torch.tensor(self.labels[idx])\n",
    "        return item\n",
    "\n",
    "    def __len__(self):\n",
    "        return len(self.labels)\n",
    "\n",
    "train_dataset = CustomDataset(train_encodings, y_train)\n",
    "test_dataset = CustomDataset(test_encodings, y_test)\n",
    "\n",
    "training_args = TrainingArguments(\n",
    "    output_dir='./output',  # Specify the directory to save the trained model and logs\n",
    "    per_device_train_batch_size=8,\n",
    "    per_device_eval_batch_size=8,\n",
    "    num_train_epochs=50,\n",
    "    logging_dir='./logs',\n",
    "    logging_steps=100,\n",
    "    evaluation_strategy='epoch',\n",
    ")\n",
    "\n",
    "trainer = Trainer(\n",
    "    model=model,\n",
    "    args=training_args,\n",
    "    train_dataset=train_dataset,\n",
    "    eval_dataset=test_dataset,\n",
    "    compute_metrics=compute_metrics,\n",
    ")\n",
    "\n",
    "train_result = trainer.train()"
   ]
  },
  {
   "cell_type": "code",
   "execution_count": 15,
   "metadata": {},
   "outputs": [],
   "source": [
    "trainer.save_model('/models')"
   ]
  },
  {
   "cell_type": "code",
   "execution_count": 40,
   "metadata": {},
   "outputs": [],
   "source": [
    "from transformers import RobertaConfig, RobertaTokenizer, RobertaForSequenceClassification\n",
    "\n",
    "# Save the trained model\n",
    "model_dir = 'models'\n",
    "os.makedirs(model_dir, exist_ok=True)\n",
    "\n",
    "# Save the model\n",
    "model.save_pretrained(model_dir)\n",
    "\n",
    "# Save the tokenizer\n",
    "tokenizer.save_pretrained(model_dir)\n",
    "\n",
    "# Save the config\n",
    "config = RobertaConfig.from_pretrained(model_dir)\n",
    "config.save_pretrained(model_dir)"
   ]
  },
  {
   "cell_type": "code",
   "execution_count": 18,
   "metadata": {},
   "outputs": [
    {
     "name": "stderr",
     "output_type": "stream",
     "text": [
      "100%|██████████| 5/5 [00:06<00:00,  1.24s/it]\n"
     ]
    }
   ],
   "source": [
    "eval_results = trainer.evaluate(eval_dataset=test_dataset)\n"
   ]
  },
  {
   "cell_type": "code",
   "execution_count": 19,
   "metadata": {},
   "outputs": [
    {
     "name": "stdout",
     "output_type": "stream",
     "text": [
      "{'eval_loss': 0.8508814573287964, 'eval_accuracy': 0.8529411764705882, 'eval_precision': 0.8489819004524887, 'eval_recall': 0.8529411764705882, 'eval_f1': 0.8500576701268744, 'eval_runtime': 15.1498, 'eval_samples_per_second': 2.244, 'eval_steps_per_second': 0.33, 'epoch': 50.0}\n"
     ]
    }
   ],
   "source": [
    "# Print evaluation results\n",
    "print(eval_results)"
   ]
  },
  {
   "cell_type": "code",
   "execution_count": 16,
   "metadata": {},
   "outputs": [
    {
     "name": "stderr",
     "output_type": "stream",
     "text": [
      "100%|██████████| 5/5 [00:00<00:00,  8.15it/s]\n"
     ]
    }
   ],
   "source": [
    "predictions = trainer.predict(test_dataset)"
   ]
  },
  {
   "cell_type": "code",
   "execution_count": 17,
   "metadata": {},
   "outputs": [],
   "source": [
    "predicted_labels = np.argmax(predictions.predictions, axis=1)"
   ]
  },
  {
   "cell_type": "code",
   "execution_count": 18,
   "metadata": {},
   "outputs": [],
   "source": [
    "accuracy = accuracy_score(y_test, predicted_labels)\n",
    "precision = precision_score(y_test, predicted_labels)\n",
    "recall = recall_score(y_test, predicted_labels)\n",
    "f1 = f1_score(y_test, predicted_labels)"
   ]
  },
  {
   "cell_type": "code",
   "execution_count": 19,
   "metadata": {},
   "outputs": [],
   "source": [
    "class_report = classification_report(y_test, predicted_labels, target_names=['undepressed', 'depressed'])"
   ]
  },
  {
   "cell_type": "code",
   "execution_count": 20,
   "metadata": {},
   "outputs": [
    {
     "name": "stdout",
     "output_type": "stream",
     "text": [
      "\n",
      "Classification Report:\n",
      "               precision    recall  f1-score   support\n",
      "\n",
      " undepressed       0.88      0.92      0.90        25\n",
      "   depressed       0.75      0.67      0.71         9\n",
      "\n",
      "    accuracy                           0.85        34\n",
      "   macro avg       0.82      0.79      0.80        34\n",
      "weighted avg       0.85      0.85      0.85        34\n",
      "\n"
     ]
    }
   ],
   "source": [
    "\n",
    "print(\"\\nClassification Report:\\n\", class_report)"
   ]
  },
  {
   "cell_type": "code",
   "execution_count": 38,
   "metadata": {},
   "outputs": [],
   "source": [
    "metrics = ['Accuracy', 'Precision', 'Recall', 'F1-score']\n",
    "values = [accuracy, precision, recall, f1]"
   ]
  },
  {
   "cell_type": "code",
   "execution_count": 25,
   "metadata": {},
   "outputs": [
    {
     "name": "stderr",
     "output_type": "stream",
     "text": [
      "100%|██████████| 5/5 [00:00<00:00,  8.07it/s]\n"
     ]
    },
    {
     "data": {
      "image/png": "[encoded data removed]",
      "text/plain": [
       "<Figure size 800x600 with 1 Axes>"
      ]
     },
     "metadata": {},
     "output_type": "display_data"
    },
    {
     "data": {
      "image/png": "[encoded data removed]",
      "text/plain": [
       "<Figure size 800x600 with 1 Axes>"
      ]
     },
     "metadata": {},
     "output_type": "display_data"
    }
   ],
   "source": [
    "from sklearn.metrics import classification_report\n",
    "\n",
    "eval_results = trainer.evaluate()\n",
    "class_report = classification_report(y_test, predicted_labels, target_names=['undepressed', 'depressed'], output_dict=True)\n",
    "\n",
    "accuracy = class_report['accuracy']\n",
    "precision_weighted = class_report['weighted avg']['precision']\n",
    "recall_weighted = class_report['weighted avg']['recall']\n",
    "f1_weighted = class_report['weighted avg']['f1-score']\n",
    "\n",
    "precision_macro = class_report['macro avg']['precision']\n",
    "recall_macro = class_report['macro avg']['recall']\n",
    "f1_macro = class_report['macro avg']['f1-score']\n",
    "\n",
    "# Plot weighted average metrics\n",
    "plt.figure(figsize=(8, 6))\n",
    "metrics_weighted = ['Accuracy', 'Precision', 'Recall', 'F1-score']\n",
    "values_weighted = [accuracy, precision_weighted, recall_weighted, f1_weighted]\n",
    "plt.bar(metrics_weighted, values_weighted, color=['blue', 'green', 'orange', 'red'])\n",
    "plt.title('Weighted Average Evaluation Metrics')\n",
    "plt.xlabel('Metrics')\n",
    "plt.ylabel('Values')\n",
    "plt.ylim(0, 1)\n",
    "plt.show()\n",
    "\n",
    "# Plot macro average metrics\n",
    "plt.figure(figsize=(8, 6))\n",
    "metrics_macro = ['Accuracy', 'Precision', 'Recall', 'F1-score']\n",
    "values_macro = [accuracy, precision_macro, recall_macro, f1_macro]\n",
    "plt.bar(metrics_macro, values_macro, color=['purple', 'brown', 'pink', 'olive'])\n",
    "plt.title('Macro Average Evaluation Metrics')\n",
    "plt.xlabel('Metrics')\n",
    "plt.ylabel('Values')\n",
    "plt.ylim(0, 1)\n",
    "plt.show()"
   ]
  },
  {
   "cell_type": "code",
   "execution_count": 27,
   "metadata": {},
   "outputs": [],
   "source": [
    "# Generate confusion matrix\n",
    "conf_matrix = confusion_matrix(y_test, predicted_labels)"
   ]
  },
  {
   "cell_type": "code",
   "execution_count": 28,
   "metadata": {},
   "outputs": [
    {
     "data": {
      "text/plain": [
       "array([[23,  2],\n",
       "       [ 3,  6]], dtype=int64)"
      ]
     },
     "execution_count": 28,
     "metadata": {},
     "output_type": "execute_result"
    }
   ],
   "source": [
    "conf_matrix"
   ]
  },
  {
   "cell_type": "code",
   "execution_count": null,
   "metadata": {},
   "outputs": [],
   "source": [
    "from sklearn.metrics import confusion_matrix\n",
    "import seaborn as sns\n",
    "import matplotlib.pyplot as plt\n",
    "\n",
    "# Calculate the confusion matrix\n",
    "conf_matrix = confusion_matrix(y_test, predicted_labels)\n",
    "\n",
    "# Plot the heatmap\n",
    "plt.figure(figsize=(8, 6))\n",
    "sns.heatmap(conf_matrix, annot=True, cmap='Blues', fmt='g', xticklabels=['undepressed', 'depressed'], yticklabels=['undepressed', 'depressed'])\n",
    "plt.title('Confusion Matrix')\n",
    "plt.xlabel('Predicted')\n",
    "plt.ylabel('True')\n",
    "plt.show()\n"
   ]
  },
  {
   "cell_type": "code",
   "execution_count": 35,
   "metadata": {},
   "outputs": [
    {
     "data": {
      "text/plain": [
       "array([[23,  2],\n",
       "       [ 3,  6]], dtype=int64)"
      ]
     },
     "execution_count": 35,
     "metadata": {},
     "output_type": "execute_result"
    }
   ],
   "source": [
    "conf_matrix"
   ]
  },
  {
   "cell_type": "markdown",
   "metadata": {},
   "source": [
    "Evaluate from saved model"
   ]
  },
  {
   "cell_type": "code",
   "execution_count": 5,
   "metadata": {},
   "outputs": [],
   "source": [
    "from transformers import RobertaConfig, RobertaTokenizer, RobertaForSequenceClassification\n",
    "\n",
    "model_dir = 'models'\n",
    "config = RobertaConfig.from_pretrained(model_dir)\n",
    "model = RobertaForSequenceClassification.from_pretrained(model_dir, config=config)\n",
    "tokenizer = RobertaTokenizer.from_pretrained(model_dir)"
   ]
  },
  {
   "cell_type": "code",
   "execution_count": 8,
   "metadata": {},
   "outputs": [],
   "source": [
    "class CustomDataset(torch.utils.data.Dataset):\n",
    "    def __init__(self, encodings, labels):\n",
    "        self.encodings = encodings\n",
    "        self.labels = labels\n",
    "\n",
    "    def __getitem__(self, idx):\n",
    "        item = {key: torch.tensor(val[idx]) for key, val in self.encodings.items()}\n",
    "        item['labels'] = torch.tensor(self.labels[idx])\n",
    "        return item\n",
    "\n",
    "    def __len__(self):\n",
    "        return len(self.labels)"
   ]
  },
  {
   "cell_type": "code",
   "execution_count": 9,
   "metadata": {},
   "outputs": [],
   "source": [
    "train_dataset = CustomDataset(train_encodings, y_train)\n",
    "test_dataset = CustomDataset(test_encodings, y_test)"
   ]
  },
  {
   "cell_type": "code",
   "execution_count": 13,
   "metadata": {},
   "outputs": [
    {
     "name": "stderr",
     "output_type": "stream",
     "text": [
      "c:\\Users\\ankit\\anaconda3\\envs\\env\\lib\\site-packages\\accelerate\\accelerator.py:436: FutureWarning: Passing the following arguments to `Accelerator` is deprecated and will be removed in version 1.0 of Accelerate: dict_keys(['dispatch_batches', 'split_batches', 'even_batches', 'use_seedable_sampler']). Please pass an `accelerate.DataLoaderConfiguration` instead: \n",
      "dataloader_config = DataLoaderConfiguration(dispatch_batches=None, split_batches=False, even_batches=True, use_seedable_sampler=True)\n",
      "  warnings.warn(\n"
     ]
    }
   ],
   "source": [
    "training_args = TrainingArguments(\n",
    "    output_dir='./output',  # Specify the directory to save the trained model and logs\n",
    "    per_device_train_batch_size=8,\n",
    "    per_device_eval_batch_size=8,\n",
    "    num_train_epochs=50,\n",
    "    logging_dir='./logs',\n",
    "    logging_steps=100,\n",
    "    evaluation_strategy='epoch',\n",
    ")\n",
    "\n",
    "trainer = Trainer(\n",
    "    model=model,\n",
    "    args=training_args,\n",
    "    train_dataset=train_dataset,\n",
    "    eval_dataset=test_dataset,\n",
    "    compute_metrics=compute_metrics,\n",
    ")"
   ]
  },
  {
   "cell_type": "code",
   "execution_count": 14,
   "metadata": {},
   "outputs": [
    {
     "name": "stderr",
     "output_type": "stream",
     "text": [
      "100%|██████████| 5/5 [00:00<00:00,  8.01it/s]\n"
     ]
    }
   ],
   "source": [
    "eval_results = trainer.evaluate(test_dataset)"
   ]
  },
  {
   "cell_type": "code",
   "execution_count": 15,
   "metadata": {},
   "outputs": [
    {
     "name": "stdout",
     "output_type": "stream",
     "text": [
      "{'eval_loss': 0.8508814573287964, 'eval_accuracy': 0.8529411764705882, 'eval_precision': 0.8489819004524887, 'eval_recall': 0.8529411764705882, 'eval_f1': 0.8500576701268744, 'eval_runtime': 1.1147, 'eval_samples_per_second': 30.503, 'eval_steps_per_second': 4.486}\n"
     ]
    }
   ],
   "source": [
    "# Print evaluation results\n",
    "print(eval_results)"
   ]
  }
 ],
 "metadata": {
  "kernelspec": {
   "display_name": ".venv",
   "language": "python",
   "name": "python3"
  },
  "language_info": {
   "codemirror_mode": {
    "name": "ipython",
    "version": 3
   },
   "file_extension": ".py",
   "mimetype": "text/x-python",
   "name": "python",
   "nbconvert_exporter": "python",
   "pygments_lexer": "ipython3",
   "version": "3.10.13"
  }
 },
 "nbformat": 4,
 "nbformat_minor": 2
}
