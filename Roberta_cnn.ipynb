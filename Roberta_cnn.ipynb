{
 "cells": [
  {
   "cell_type": "code",
   "execution_count": 1,
   "metadata": {},
   "outputs": [],
   "source": [
    "import pandas as pd\n",
    "import os\n",
    "\n",
    "X = []  # Initialize an empty list to store concatenated values\n",
    "y = []  # Initialize an empty list to store labels\n",
    "\n",
    "# Iterate through transcript IDs from 300 to 493\n",
    "for transcript_id in range(300, 494):\n",
    "    filename = f'./transcript/{transcript_id}_TRANSCRIPT.csv'\n",
    "    label_filename = \"./CSV/final_data.csv\"  # File containing labels\n",
    "    \n",
    "    # Check if the file exists before attempting to read it\n",
    "    if os.path.exists(filename) and os.path.exists(label_filename):\n",
    "        # Read the CSV file\n",
    "        data = pd.read_csv(filename, sep='\\t')\n",
    "        \n",
    "        # Filter rows where 'speaker' is \"Participant\" and select 'value' column\n",
    "        participant_values = data[data['speaker'] == \"Participant\"][\"value\"]\n",
    "        \n",
    "        # Convert NaN values to empty strings\n",
    "        participant_values = participant_values.fillna('')\n",
    "        \n",
    "        # Join participant values without a separator\n",
    "        joined_values = ' '.join(participant_values.astype(str).tolist())\n",
    "        \n",
    "        # Append joined values to list X\n",
    "        X.append(joined_values)\n",
    "        \n",
    "        # Read the label CSV file\n",
    "        label_data = pd.read_csv(label_filename)\n",
    "        \n",
    "        # Find the corresponding row for the transcript ID\n",
    "        label_row = label_data[label_data['Participant_ID'] == transcript_id]\n",
    "        \n",
    "        # Extract the label from the row\n",
    "        if not label_row.empty:\n",
    "            label = label_row.iloc[0]['PHQ8_Binary']\n",
    "            y.append(label)\n",
    "       \n",
    "   \n",
    "\n",
    "# Print the concatenated values and labels\n",
    "\n"
   ]
  },
  {
   "cell_type": "code",
   "execution_count": 2,
   "metadata": {},
   "outputs": [],
   "source": [
    "from sklearn.model_selection import train_test_split\n",
    "X_train, X_test, y_train, y_test = train_test_split(X, y, test_size=0.2, random_state=42)"
   ]
  },
  {
   "cell_type": "code",
   "execution_count": 3,
   "metadata": {},
   "outputs": [
    {
     "name": "stderr",
     "output_type": "stream",
     "text": [
      "c:\\Users\\ankit\\anaconda3\\envs\\env\\lib\\site-packages\\tqdm\\auto.py:21: TqdmWarning: IProgress not found. Please update jupyter and ipywidgets. See https://ipywidgets.readthedocs.io/en/stable/user_install.html\n",
      "  from .autonotebook import tqdm as notebook_tqdm\n"
     ]
    },
    {
     "name": "stdout",
     "output_type": "stream",
     "text": [
      "WARNING:tensorflow:Compiled the loaded model, but the compiled metrics have yet to be built. `model.compile_metrics` will be empty until you train or evaluate the model.\n"
     ]
    }
   ],
   "source": [
    "import os\n",
    "import torch\n",
    "import tensorflow as tf\n",
    "from transformers import RobertaTokenizer, RobertaForSequenceClassification, RobertaConfig\n",
    "\n",
    "# Directory where your fine-tuned model is saved\n",
    "model_dir = 'models'\n",
    "\n",
    "# Load the tokenizer and config from the directory\n",
    "tokenizer = RobertaTokenizer.from_pretrained(model_dir)\n",
    "config = RobertaConfig.from_pretrained(model_dir)\n",
    "\n",
    "# Load the fine-tuned model\n",
    "model = RobertaForSequenceClassification.from_pretrained(model_dir, config=config)\n",
    "\n",
    "# Assuming X_train is your input data\n",
    "\n",
    "# Encode the data\n",
    "encoded_data = tokenizer(X_train, padding=True, truncation=True, return_tensors=\"pt\")\n",
    "\n",
    "# Perform a forward pass through the model\n",
    "with torch.no_grad():\n",
    "    model.eval()\n",
    "    outputs = model(**encoded_data, output_hidden_states=True)  # Set output_hidden_states to True\n",
    "\n",
    "# Extract the hidden states from the RoBERTa model\n",
    "hidden_states = outputs.hidden_states  # List of hidden states for all layers\n",
    "\n",
    "# Get the last layer hidden states\n",
    "last_hidden_states = hidden_states[-1]\n",
    "\n",
    "# Convert the tensor to NumPy array\n",
    "features = last_hidden_states.numpy()\n",
    "\n",
    "# Convert the features to TensorFlow tensor\n",
    "X3_tensor = tf.convert_to_tensor(features, dtype=tf.float16)\n",
    "\n",
    "# Define a CNN model\n",
    "model2 = tf.keras.Sequential([\n",
    "    tf.keras.layers.Reshape(target_shape=(512, 768, 1), input_shape=(512, 768,)),  # Add a channel dimension\n",
    "    tf.keras.layers.Conv2D(16, kernel_size=3, activation='relu'),\n",
    "    tf.keras.layers.MaxPooling2D(pool_size=2),\n",
    "    tf.keras.layers.Flatten(),  # Flatten the output\n",
    "    tf.keras.layers.Dense(64, activation='relu'),\n",
    "    tf.keras.layers.Dense(100)  # Output size (adjust as needed)\n",
    "])\n",
    "\n",
    "output = model2(X3_tensor)\n",
    "\n",
    "# Convert the output to a NumPy array\n",
    "features3 = output.numpy()\n",
    "features3.shape\n",
    "\n",
    "# Save the model\n",
    "model2.save('roberta_cnn.h5')\n"
   ]
  },
  {
   "cell_type": "code",
   "execution_count": 4,
   "metadata": {},
   "outputs": [],
   "source": [
    "from sklearn.preprocessing import LabelBinarizer\n",
    "import numpy as np"
   ]
  },
  {
   "cell_type": "code",
   "execution_count": 5,
   "metadata": {},
   "outputs": [],
   "source": [
    "model2 = tf.keras.Sequential([\n",
    "    tf.keras.layers.Reshape(target_shape=(512, 768, 1), input_shape=(512, 768,)),\n",
    "    tf.keras.layers.Conv2D(16, kernel_size=3, activation='relu'),\n",
    "    tf.keras.layers.MaxPooling2D(pool_size=2),\n",
    "    tf.keras.layers.Flatten(),\n",
    "    tf.keras.layers.Dense(64, activation='relu'),\n",
    "    tf.keras.layers.Dense(1, activation='sigmoid')\n",
    "])"
   ]
  },
  {
   "cell_type": "code",
   "execution_count": 6,
   "metadata": {},
   "outputs": [],
   "source": [
    "# Split the data into train and test sets\n",
    "X_train, X_test, y_train, y_test = train_test_split(X, y, test_size=0.2, random_state=42)\n",
    "\n",
    "# Split the data into train and validation sets\n",
    "X_train, X_val, y_train, y_val = train_test_split(X_train, y_train, test_size=0.2, random_state=42)"
   ]
  },
  {
   "cell_type": "code",
   "execution_count": 9,
   "metadata": {},
   "outputs": [
    {
     "name": "stdout",
     "output_type": "stream",
     "text": [
      "[0 1]\n",
      "[0 1]\n",
      "[0 1]\n"
     ]
    }
   ],
   "source": [
    "print(np.unique(y_train))\n",
    "print(np.unique(y_val))\n",
    "print(np.unique(y_test))"
   ]
  },
  {
   "cell_type": "code",
   "execution_count": 10,
   "metadata": {},
   "outputs": [],
   "source": [
    "from sklearn.preprocessing import LabelBinarizer\n",
    "\n",
    "lb = LabelBinarizer()\n",
    "y_train_onehot = lb.fit_transform(y_train)\n",
    "y_val_onehot = lb.transform(y_val)\n",
    "y_test_onehot = lb.transform(y_test)"
   ]
  },
  {
   "cell_type": "code",
   "execution_count": 21,
   "metadata": {},
   "outputs": [],
   "source": [
    "X3_train = np.expand_dims(X3_tensor[:len(y_train)], axis=-1)\n",
    "X3_val = np.expand_dims(X3_tensor[len(y_train):len(y_train)+len(y_val)], axis=-1)\n",
    "X3_test = np.expand_dims(X3_tensor[len(y_train)+len(y_val):], axis=-1)"
   ]
  },
  {
   "cell_type": "code",
   "execution_count": null,
   "metadata": {},
   "outputs": [],
   "source": [
    "X3_test = X3_tensor[-len(y_test):]"
   ]
  },
  {
   "cell_type": "code",
   "execution_count": 25,
   "metadata": {},
   "outputs": [
    {
     "name": "stdout",
     "output_type": "stream",
     "text": [
      "108 108\n",
      "28 28\n",
      "34 34\n"
     ]
    }
   ],
   "source": [
    "print(len(X3_train), len(y_train_onehot))\n",
    "print(len(X3_val), len(y_val_onehot))\n",
    "print(len(X3_test), len(y_test_onehot))"
   ]
  },
  {
   "cell_type": "code",
   "execution_count": 27,
   "metadata": {},
   "outputs": [],
   "source": [
    "model2.compile(optimizer='adam', loss='categorical_crossentropy', metrics=['accuracy'])"
   ]
  },
  {
   "cell_type": "code",
   "execution_count": null,
   "metadata": {},
   "outputs": [],
   "source": [
    "model2.fit(X3_train, y_train_onehot, epochs=50, batch_size=32, validation_data=(X3_val, y_val_onehot))"
   ]
  }
 ],
 "metadata": {
  "kernelspec": {
   "display_name": ".venv",
   "language": "python",
   "name": "python3"
  },
  "language_info": {
   "codemirror_mode": {
    "name": "ipython",
    "version": 3
   },
   "file_extension": ".py",
   "mimetype": "text/x-python",
   "name": "python",
   "nbconvert_exporter": "python",
   "pygments_lexer": "ipython3",
   "version": "3.10.13"
  }
 },
 "nbformat": 4,
 "nbformat_minor": 2
}
